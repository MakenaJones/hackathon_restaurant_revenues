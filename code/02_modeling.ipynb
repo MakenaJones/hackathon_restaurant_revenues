{
 "cells": [
  {
   "cell_type": "code",
   "execution_count": 1,
   "id": "dad68f65-cc18-47ad-9adf-6f80c877bd4e",
   "metadata": {},
   "outputs": [],
   "source": [
    "import matplotlib.pyplot as plt\n",
    "import numpy as np\n",
    "import pandas as pd\n",
    "import seaborn as sns\n",
    "\n",
    "from sklearn import metrics\n",
    "from sklearn.preprocessing import StandardScaler\n",
    "from sklearn.decomposition import PCA\n",
    "from sklearn.linear_model import LinearRegression, Lasso\n",
    "from sklearn.model_selection import train_test_split, cross_val_score, GridSearchCV\n",
    "from sklearn.neighbors import KNeighborsRegressor\n",
    "\n",
    "from sklearn.compose import ColumnTransformer, TransformedTargetRegressor\n",
    "from sklearn.pipeline import Pipeline\n",
    "\n",
    "from sklearn.model_selection import train_test_split\n",
    "\n",
    "from sklearn.ensemble import GradientBoostingRegressor, RandomForestRegressor, BaggingRegressor, AdaBoostRegressor\n"
   ]
  },
  {
   "cell_type": "code",
   "execution_count": 2,
   "id": "c961344a-a539-42dc-81ca-78dae13c6c93",
   "metadata": {},
   "outputs": [
    {
     "data": {
      "text/html": [
       "<div>\n",
       "<style scoped>\n",
       "    .dataframe tbody tr th:only-of-type {\n",
       "        vertical-align: middle;\n",
       "    }\n",
       "\n",
       "    .dataframe tbody tr th {\n",
       "        vertical-align: top;\n",
       "    }\n",
       "\n",
       "    .dataframe thead th {\n",
       "        text-align: right;\n",
       "    }\n",
       "</style>\n",
       "<table border=\"1\" class=\"dataframe\">\n",
       "  <thead>\n",
       "    <tr style=\"text-align: right;\">\n",
       "      <th></th>\n",
       "      <th>p1</th>\n",
       "      <th>p2</th>\n",
       "      <th>p3</th>\n",
       "      <th>p4</th>\n",
       "      <th>p5</th>\n",
       "      <th>p6</th>\n",
       "      <th>p7</th>\n",
       "      <th>p8</th>\n",
       "      <th>p9</th>\n",
       "      <th>p10</th>\n",
       "      <th>...</th>\n",
       "      <th>p33</th>\n",
       "      <th>p34</th>\n",
       "      <th>p35</th>\n",
       "      <th>p36</th>\n",
       "      <th>p37</th>\n",
       "      <th>revenue</th>\n",
       "      <th>city_group_fine</th>\n",
       "      <th>is_inline</th>\n",
       "      <th>open_utc</th>\n",
       "      <th>is_big_city</th>\n",
       "    </tr>\n",
       "    <tr>\n",
       "      <th>Id</th>\n",
       "      <th></th>\n",
       "      <th></th>\n",
       "      <th></th>\n",
       "      <th></th>\n",
       "      <th></th>\n",
       "      <th></th>\n",
       "      <th></th>\n",
       "      <th></th>\n",
       "      <th></th>\n",
       "      <th></th>\n",
       "      <th></th>\n",
       "      <th></th>\n",
       "      <th></th>\n",
       "      <th></th>\n",
       "      <th></th>\n",
       "      <th></th>\n",
       "      <th></th>\n",
       "      <th></th>\n",
       "      <th></th>\n",
       "      <th></th>\n",
       "      <th></th>\n",
       "    </tr>\n",
       "  </thead>\n",
       "  <tbody>\n",
       "    <tr>\n",
       "      <th>0</th>\n",
       "      <td>4</td>\n",
       "      <td>5.0</td>\n",
       "      <td>4.0</td>\n",
       "      <td>4.0</td>\n",
       "      <td>2</td>\n",
       "      <td>2</td>\n",
       "      <td>5</td>\n",
       "      <td>4</td>\n",
       "      <td>5</td>\n",
       "      <td>5</td>\n",
       "      <td>...</td>\n",
       "      <td>5</td>\n",
       "      <td>5</td>\n",
       "      <td>4</td>\n",
       "      <td>3</td>\n",
       "      <td>4</td>\n",
       "      <td>5653753.0</td>\n",
       "      <td>İstanbul</td>\n",
       "      <td>1</td>\n",
       "      <td>9.321696e+08</td>\n",
       "      <td>1</td>\n",
       "    </tr>\n",
       "    <tr>\n",
       "      <th>1</th>\n",
       "      <td>4</td>\n",
       "      <td>5.0</td>\n",
       "      <td>4.0</td>\n",
       "      <td>4.0</td>\n",
       "      <td>1</td>\n",
       "      <td>2</td>\n",
       "      <td>5</td>\n",
       "      <td>5</td>\n",
       "      <td>5</td>\n",
       "      <td>5</td>\n",
       "      <td>...</td>\n",
       "      <td>0</td>\n",
       "      <td>0</td>\n",
       "      <td>0</td>\n",
       "      <td>0</td>\n",
       "      <td>0</td>\n",
       "      <td>6923131.0</td>\n",
       "      <td>Ankara</td>\n",
       "      <td>0</td>\n",
       "      <td>1.202947e+09</td>\n",
       "      <td>1</td>\n",
       "    </tr>\n",
       "    <tr>\n",
       "      <th>2</th>\n",
       "      <td>2</td>\n",
       "      <td>4.0</td>\n",
       "      <td>2.0</td>\n",
       "      <td>5.0</td>\n",
       "      <td>2</td>\n",
       "      <td>3</td>\n",
       "      <td>5</td>\n",
       "      <td>5</td>\n",
       "      <td>5</td>\n",
       "      <td>5</td>\n",
       "      <td>...</td>\n",
       "      <td>0</td>\n",
       "      <td>0</td>\n",
       "      <td>0</td>\n",
       "      <td>0</td>\n",
       "      <td>0</td>\n",
       "      <td>2055379.0</td>\n",
       "      <td>other</td>\n",
       "      <td>1</td>\n",
       "      <td>1.362787e+09</td>\n",
       "      <td>0</td>\n",
       "    </tr>\n",
       "    <tr>\n",
       "      <th>3</th>\n",
       "      <td>6</td>\n",
       "      <td>4.5</td>\n",
       "      <td>6.0</td>\n",
       "      <td>6.0</td>\n",
       "      <td>4</td>\n",
       "      <td>4</td>\n",
       "      <td>10</td>\n",
       "      <td>8</td>\n",
       "      <td>10</td>\n",
       "      <td>10</td>\n",
       "      <td>...</td>\n",
       "      <td>6</td>\n",
       "      <td>18</td>\n",
       "      <td>12</td>\n",
       "      <td>12</td>\n",
       "      <td>6</td>\n",
       "      <td>2675511.0</td>\n",
       "      <td>other</td>\n",
       "      <td>1</td>\n",
       "      <td>1.328141e+09</td>\n",
       "      <td>0</td>\n",
       "    </tr>\n",
       "    <tr>\n",
       "      <th>4</th>\n",
       "      <td>3</td>\n",
       "      <td>4.0</td>\n",
       "      <td>3.0</td>\n",
       "      <td>4.0</td>\n",
       "      <td>2</td>\n",
       "      <td>2</td>\n",
       "      <td>5</td>\n",
       "      <td>5</td>\n",
       "      <td>5</td>\n",
       "      <td>5</td>\n",
       "      <td>...</td>\n",
       "      <td>2</td>\n",
       "      <td>3</td>\n",
       "      <td>4</td>\n",
       "      <td>3</td>\n",
       "      <td>3</td>\n",
       "      <td>4316715.0</td>\n",
       "      <td>other</td>\n",
       "      <td>1</td>\n",
       "      <td>1.241827e+09</td>\n",
       "      <td>0</td>\n",
       "    </tr>\n",
       "  </tbody>\n",
       "</table>\n",
       "<p>5 rows × 42 columns</p>\n",
       "</div>"
      ],
      "text/plain": [
       "    p1   p2   p3   p4  p5  p6  p7  p8  p9  p10  ...  p33  p34  p35  p36  p37  \\\n",
       "Id                                              ...                            \n",
       "0    4  5.0  4.0  4.0   2   2   5   4   5    5  ...    5    5    4    3    4   \n",
       "1    4  5.0  4.0  4.0   1   2   5   5   5    5  ...    0    0    0    0    0   \n",
       "2    2  4.0  2.0  5.0   2   3   5   5   5    5  ...    0    0    0    0    0   \n",
       "3    6  4.5  6.0  6.0   4   4  10   8  10   10  ...    6   18   12   12    6   \n",
       "4    3  4.0  3.0  4.0   2   2   5   5   5    5  ...    2    3    4    3    3   \n",
       "\n",
       "      revenue  city_group_fine  is_inline      open_utc  is_big_city  \n",
       "Id                                                                    \n",
       "0   5653753.0         İstanbul          1  9.321696e+08            1  \n",
       "1   6923131.0           Ankara          0  1.202947e+09            1  \n",
       "2   2055379.0            other          1  1.362787e+09            0  \n",
       "3   2675511.0            other          1  1.328141e+09            0  \n",
       "4   4316715.0            other          1  1.241827e+09            0  \n",
       "\n",
       "[5 rows x 42 columns]"
      ]
     },
     "execution_count": 2,
     "metadata": {},
     "output_type": "execute_result"
    }
   ],
   "source": [
    "df = pd.read_csv('../data/train_prepared.csv', index_col='Id')\n",
    "df.head()"
   ]
  },
  {
   "cell_type": "code",
   "execution_count": 3,
   "id": "5feabd33-a161-4c5b-9a60-fb46348aca7e",
   "metadata": {},
   "outputs": [
    {
     "data": {
      "text/html": [
       "<div>\n",
       "<style scoped>\n",
       "    .dataframe tbody tr th:only-of-type {\n",
       "        vertical-align: middle;\n",
       "    }\n",
       "\n",
       "    .dataframe tbody tr th {\n",
       "        vertical-align: top;\n",
       "    }\n",
       "\n",
       "    .dataframe thead th {\n",
       "        text-align: right;\n",
       "    }\n",
       "</style>\n",
       "<table border=\"1\" class=\"dataframe\">\n",
       "  <thead>\n",
       "    <tr style=\"text-align: right;\">\n",
       "      <th></th>\n",
       "      <th>p1</th>\n",
       "      <th>p2</th>\n",
       "      <th>p3</th>\n",
       "      <th>p4</th>\n",
       "      <th>p5</th>\n",
       "      <th>p6</th>\n",
       "      <th>p7</th>\n",
       "      <th>p8</th>\n",
       "      <th>p9</th>\n",
       "      <th>p10</th>\n",
       "      <th>...</th>\n",
       "      <th>p32</th>\n",
       "      <th>p33</th>\n",
       "      <th>p34</th>\n",
       "      <th>p35</th>\n",
       "      <th>p36</th>\n",
       "      <th>p37</th>\n",
       "      <th>revenue</th>\n",
       "      <th>is_inline</th>\n",
       "      <th>open_utc</th>\n",
       "      <th>is_big_city</th>\n",
       "    </tr>\n",
       "    <tr>\n",
       "      <th>Id</th>\n",
       "      <th></th>\n",
       "      <th></th>\n",
       "      <th></th>\n",
       "      <th></th>\n",
       "      <th></th>\n",
       "      <th></th>\n",
       "      <th></th>\n",
       "      <th></th>\n",
       "      <th></th>\n",
       "      <th></th>\n",
       "      <th></th>\n",
       "      <th></th>\n",
       "      <th></th>\n",
       "      <th></th>\n",
       "      <th></th>\n",
       "      <th></th>\n",
       "      <th></th>\n",
       "      <th></th>\n",
       "      <th></th>\n",
       "      <th></th>\n",
       "      <th></th>\n",
       "    </tr>\n",
       "  </thead>\n",
       "  <tbody>\n",
       "    <tr>\n",
       "      <th>0</th>\n",
       "      <td>4</td>\n",
       "      <td>5.0</td>\n",
       "      <td>4.0</td>\n",
       "      <td>4.0</td>\n",
       "      <td>2</td>\n",
       "      <td>2</td>\n",
       "      <td>5</td>\n",
       "      <td>4</td>\n",
       "      <td>5</td>\n",
       "      <td>5</td>\n",
       "      <td>...</td>\n",
       "      <td>4</td>\n",
       "      <td>5</td>\n",
       "      <td>5</td>\n",
       "      <td>4</td>\n",
       "      <td>3</td>\n",
       "      <td>4</td>\n",
       "      <td>5653753.0</td>\n",
       "      <td>1</td>\n",
       "      <td>9.321696e+08</td>\n",
       "      <td>1</td>\n",
       "    </tr>\n",
       "    <tr>\n",
       "      <th>1</th>\n",
       "      <td>4</td>\n",
       "      <td>5.0</td>\n",
       "      <td>4.0</td>\n",
       "      <td>4.0</td>\n",
       "      <td>1</td>\n",
       "      <td>2</td>\n",
       "      <td>5</td>\n",
       "      <td>5</td>\n",
       "      <td>5</td>\n",
       "      <td>5</td>\n",
       "      <td>...</td>\n",
       "      <td>0</td>\n",
       "      <td>0</td>\n",
       "      <td>0</td>\n",
       "      <td>0</td>\n",
       "      <td>0</td>\n",
       "      <td>0</td>\n",
       "      <td>6923131.0</td>\n",
       "      <td>0</td>\n",
       "      <td>1.202947e+09</td>\n",
       "      <td>1</td>\n",
       "    </tr>\n",
       "    <tr>\n",
       "      <th>2</th>\n",
       "      <td>2</td>\n",
       "      <td>4.0</td>\n",
       "      <td>2.0</td>\n",
       "      <td>5.0</td>\n",
       "      <td>2</td>\n",
       "      <td>3</td>\n",
       "      <td>5</td>\n",
       "      <td>5</td>\n",
       "      <td>5</td>\n",
       "      <td>5</td>\n",
       "      <td>...</td>\n",
       "      <td>0</td>\n",
       "      <td>0</td>\n",
       "      <td>0</td>\n",
       "      <td>0</td>\n",
       "      <td>0</td>\n",
       "      <td>0</td>\n",
       "      <td>2055379.0</td>\n",
       "      <td>1</td>\n",
       "      <td>1.362787e+09</td>\n",
       "      <td>0</td>\n",
       "    </tr>\n",
       "    <tr>\n",
       "      <th>3</th>\n",
       "      <td>6</td>\n",
       "      <td>4.5</td>\n",
       "      <td>6.0</td>\n",
       "      <td>6.0</td>\n",
       "      <td>4</td>\n",
       "      <td>4</td>\n",
       "      <td>10</td>\n",
       "      <td>8</td>\n",
       "      <td>10</td>\n",
       "      <td>10</td>\n",
       "      <td>...</td>\n",
       "      <td>10</td>\n",
       "      <td>6</td>\n",
       "      <td>18</td>\n",
       "      <td>12</td>\n",
       "      <td>12</td>\n",
       "      <td>6</td>\n",
       "      <td>2675511.0</td>\n",
       "      <td>1</td>\n",
       "      <td>1.328141e+09</td>\n",
       "      <td>0</td>\n",
       "    </tr>\n",
       "    <tr>\n",
       "      <th>4</th>\n",
       "      <td>3</td>\n",
       "      <td>4.0</td>\n",
       "      <td>3.0</td>\n",
       "      <td>4.0</td>\n",
       "      <td>2</td>\n",
       "      <td>2</td>\n",
       "      <td>5</td>\n",
       "      <td>5</td>\n",
       "      <td>5</td>\n",
       "      <td>5</td>\n",
       "      <td>...</td>\n",
       "      <td>3</td>\n",
       "      <td>2</td>\n",
       "      <td>3</td>\n",
       "      <td>4</td>\n",
       "      <td>3</td>\n",
       "      <td>3</td>\n",
       "      <td>4316715.0</td>\n",
       "      <td>1</td>\n",
       "      <td>1.241827e+09</td>\n",
       "      <td>0</td>\n",
       "    </tr>\n",
       "  </tbody>\n",
       "</table>\n",
       "<p>5 rows × 41 columns</p>\n",
       "</div>"
      ],
      "text/plain": [
       "    p1   p2   p3   p4  p5  p6  p7  p8  p9  p10  ...  p32  p33  p34  p35  p36  \\\n",
       "Id                                              ...                            \n",
       "0    4  5.0  4.0  4.0   2   2   5   4   5    5  ...    4    5    5    4    3   \n",
       "1    4  5.0  4.0  4.0   1   2   5   5   5    5  ...    0    0    0    0    0   \n",
       "2    2  4.0  2.0  5.0   2   3   5   5   5    5  ...    0    0    0    0    0   \n",
       "3    6  4.5  6.0  6.0   4   4  10   8  10   10  ...   10    6   18   12   12   \n",
       "4    3  4.0  3.0  4.0   2   2   5   5   5    5  ...    3    2    3    4    3   \n",
       "\n",
       "    p37    revenue  is_inline      open_utc  is_big_city  \n",
       "Id                                                        \n",
       "0     4  5653753.0          1  9.321696e+08            1  \n",
       "1     0  6923131.0          0  1.202947e+09            1  \n",
       "2     0  2055379.0          1  1.362787e+09            0  \n",
       "3     6  2675511.0          1  1.328141e+09            0  \n",
       "4     3  4316715.0          1  1.241827e+09            0  \n",
       "\n",
       "[5 rows x 41 columns]"
      ]
     },
     "execution_count": 3,
     "metadata": {},
     "output_type": "execute_result"
    }
   ],
   "source": [
    "#Drop city_group_fine\n",
    "df = df.drop(columns='city_group_fine')\n",
    "df.head()"
   ]
  },
  {
   "cell_type": "code",
   "execution_count": 4,
   "id": "409afb90-d143-4fa7-8b4d-96562866fbc0",
   "metadata": {},
   "outputs": [
    {
     "data": {
      "text/plain": [
       "p1               int64\n",
       "p2             float64\n",
       "p3             float64\n",
       "p4             float64\n",
       "p5               int64\n",
       "p6               int64\n",
       "p7               int64\n",
       "p8               int64\n",
       "p9               int64\n",
       "p10              int64\n",
       "p11              int64\n",
       "p12              int64\n",
       "p13            float64\n",
       "p14              int64\n",
       "p15              int64\n",
       "p16              int64\n",
       "p17              int64\n",
       "p18              int64\n",
       "p19              int64\n",
       "p20              int64\n",
       "p21              int64\n",
       "p22              int64\n",
       "p23              int64\n",
       "p24              int64\n",
       "p25              int64\n",
       "p26            float64\n",
       "p27            float64\n",
       "p28            float64\n",
       "p29            float64\n",
       "p30              int64\n",
       "p31              int64\n",
       "p32              int64\n",
       "p33              int64\n",
       "p34              int64\n",
       "p35              int64\n",
       "p36              int64\n",
       "p37              int64\n",
       "revenue        float64\n",
       "is_inline        int64\n",
       "open_utc       float64\n",
       "is_big_city      int64\n",
       "dtype: object"
      ]
     },
     "execution_count": 4,
     "metadata": {},
     "output_type": "execute_result"
    }
   ],
   "source": [
    "df.dtypes"
   ]
  },
  {
   "cell_type": "markdown",
   "id": "134a50ee-d574-4fde-9b2e-fc0b19a25153",
   "metadata": {},
   "source": [
    "## Train/Test Split"
   ]
  },
  {
   "cell_type": "code",
   "execution_count": 5,
   "id": "e9b41bf1-7a9c-4ab8-81ce-287bbf93e0cc",
   "metadata": {},
   "outputs": [],
   "source": [
    "X = df.drop(columns='revenue')\n",
    "y = df['revenue']"
   ]
  },
  {
   "cell_type": "code",
   "execution_count": 6,
   "id": "881b1cdd-d69d-4d7f-9962-d57397888304",
   "metadata": {},
   "outputs": [],
   "source": [
    "X_train, X_test, y_train, y_test = train_test_split(X, y, random_state=42)"
   ]
  },
  {
   "cell_type": "markdown",
   "id": "adfcd052-5477-4b36-a000-cfa875856d84",
   "metadata": {},
   "source": [
    "# PCA"
   ]
  },
  {
   "cell_type": "code",
   "execution_count": 7,
   "id": "56524d5b-7b0e-47d1-ad69-c684e3cfbd7b",
   "metadata": {},
   "outputs": [],
   "source": [
    "#Standard scale\n",
    "ss = StandardScaler()\n",
    "X_train_sc = ss.fit_transform(X_train)\n",
    "X_test_sc = ss.transform(X_test)"
   ]
  },
  {
   "cell_type": "code",
   "execution_count": 8,
   "id": "c64bd37b-151b-45b4-a69c-522629cb5b83",
   "metadata": {},
   "outputs": [],
   "source": [
    "pca = PCA(n_components=2)\n",
    "pcs_train = pca.fit_transform(X_train_sc)\n",
    "pcs_test = pca.transform(X_test_sc)\n",
    "pc_df_train = pd.DataFrame(pcs_train, index=X_train.index)\n",
    "pc_df_test = pd.DataFrame(pcs_test, index=X_test.index)"
   ]
  },
  {
   "cell_type": "code",
   "execution_count": 9,
   "id": "de0ac2ac-c9dc-43cd-a598-51540426b804",
   "metadata": {},
   "outputs": [
    {
     "name": "stdout",
     "output_type": "stream",
     "text": [
      "102\n"
     ]
    },
    {
     "data": {
      "text/html": [
       "<div>\n",
       "<style scoped>\n",
       "    .dataframe tbody tr th:only-of-type {\n",
       "        vertical-align: middle;\n",
       "    }\n",
       "\n",
       "    .dataframe tbody tr th {\n",
       "        vertical-align: top;\n",
       "    }\n",
       "\n",
       "    .dataframe thead th {\n",
       "        text-align: right;\n",
       "    }\n",
       "</style>\n",
       "<table border=\"1\" class=\"dataframe\">\n",
       "  <thead>\n",
       "    <tr style=\"text-align: right;\">\n",
       "      <th></th>\n",
       "      <th>0</th>\n",
       "      <th>1</th>\n",
       "    </tr>\n",
       "    <tr>\n",
       "      <th>Id</th>\n",
       "      <th></th>\n",
       "      <th></th>\n",
       "    </tr>\n",
       "  </thead>\n",
       "  <tbody>\n",
       "    <tr>\n",
       "      <th>117</th>\n",
       "      <td>0.303265</td>\n",
       "      <td>-1.490681</td>\n",
       "    </tr>\n",
       "    <tr>\n",
       "      <th>101</th>\n",
       "      <td>2.219446</td>\n",
       "      <td>-2.615509</td>\n",
       "    </tr>\n",
       "    <tr>\n",
       "      <th>0</th>\n",
       "      <td>1.145602</td>\n",
       "      <td>-2.447281</td>\n",
       "    </tr>\n",
       "    <tr>\n",
       "      <th>78</th>\n",
       "      <td>11.069298</td>\n",
       "      <td>1.578056</td>\n",
       "    </tr>\n",
       "    <tr>\n",
       "      <th>62</th>\n",
       "      <td>-0.587044</td>\n",
       "      <td>-1.966245</td>\n",
       "    </tr>\n",
       "  </tbody>\n",
       "</table>\n",
       "</div>"
      ],
      "text/plain": [
       "             0         1\n",
       "Id                      \n",
       "117   0.303265 -1.490681\n",
       "101   2.219446 -2.615509\n",
       "0     1.145602 -2.447281\n",
       "78   11.069298  1.578056\n",
       "62   -0.587044 -1.966245"
      ]
     },
     "execution_count": 9,
     "metadata": {},
     "output_type": "execute_result"
    }
   ],
   "source": [
    "print(len(pc_df_train))\n",
    "pc_df_train.head()"
   ]
  },
  {
   "cell_type": "code",
   "execution_count": 10,
   "id": "477c7e53-375c-4233-ae64-acbb5c999549",
   "metadata": {},
   "outputs": [
    {
     "name": "stdout",
     "output_type": "stream",
     "text": [
      "35\n"
     ]
    },
    {
     "data": {
      "text/html": [
       "<div>\n",
       "<style scoped>\n",
       "    .dataframe tbody tr th:only-of-type {\n",
       "        vertical-align: middle;\n",
       "    }\n",
       "\n",
       "    .dataframe tbody tr th {\n",
       "        vertical-align: top;\n",
       "    }\n",
       "\n",
       "    .dataframe thead th {\n",
       "        text-align: right;\n",
       "    }\n",
       "</style>\n",
       "<table border=\"1\" class=\"dataframe\">\n",
       "  <thead>\n",
       "    <tr style=\"text-align: right;\">\n",
       "      <th></th>\n",
       "      <th>0</th>\n",
       "      <th>1</th>\n",
       "    </tr>\n",
       "    <tr>\n",
       "      <th>Id</th>\n",
       "      <th></th>\n",
       "      <th></th>\n",
       "    </tr>\n",
       "  </thead>\n",
       "  <tbody>\n",
       "    <tr>\n",
       "      <th>105</th>\n",
       "      <td>-3.943561</td>\n",
       "      <td>-0.439584</td>\n",
       "    </tr>\n",
       "    <tr>\n",
       "      <th>104</th>\n",
       "      <td>0.592860</td>\n",
       "      <td>-2.123870</td>\n",
       "    </tr>\n",
       "    <tr>\n",
       "      <th>12</th>\n",
       "      <td>-2.870321</td>\n",
       "      <td>0.003369</td>\n",
       "    </tr>\n",
       "    <tr>\n",
       "      <th>26</th>\n",
       "      <td>1.102693</td>\n",
       "      <td>-2.016024</td>\n",
       "    </tr>\n",
       "    <tr>\n",
       "      <th>123</th>\n",
       "      <td>-4.083652</td>\n",
       "      <td>-0.539542</td>\n",
       "    </tr>\n",
       "  </tbody>\n",
       "</table>\n",
       "</div>"
      ],
      "text/plain": [
       "            0         1\n",
       "Id                     \n",
       "105 -3.943561 -0.439584\n",
       "104  0.592860 -2.123870\n",
       "12  -2.870321  0.003369\n",
       "26   1.102693 -2.016024\n",
       "123 -4.083652 -0.539542"
      ]
     },
     "execution_count": 10,
     "metadata": {},
     "output_type": "execute_result"
    }
   ],
   "source": [
    "print(len(pc_df_test))\n",
    "pc_df_test.head()"
   ]
  },
  {
   "cell_type": "markdown",
   "id": "0a2c86e3-2335-4a65-8542-b9c75b354262",
   "metadata": {},
   "source": [
    "# Pipeline"
   ]
  },
  {
   "cell_type": "code",
   "execution_count": 11,
   "id": "e58a0e02-36b2-4590-85c5-d95242c98828",
   "metadata": {},
   "outputs": [],
   "source": [
    "#Make a log transformer\n",
    "logreg = TransformedTargetRegressor(\n",
    "    regressor=Lasso(),\n",
    "    func = np.log,\n",
    "    inverse_func=np.exp\n",
    ")"
   ]
  },
  {
   "cell_type": "code",
   "execution_count": 12,
   "id": "44de87a2-f6bf-42a3-b0f8-7d7313b901d0",
   "metadata": {},
   "outputs": [],
   "source": [
    "logreg_pipe = Pipeline([\n",
    "    ('ss', StandardScaler()),\n",
    "    ('pca', PCA()),\n",
    "    ('ll', logreg)\n",
    "])"
   ]
  },
  {
   "cell_type": "code",
   "execution_count": 13,
   "id": "1c35d639-1ba6-4dd8-b300-81512df871ed",
   "metadata": {},
   "outputs": [],
   "source": [
    "logreg_params = {\n",
    "    'pca__n_components': list(range(1,6)),\n",
    "    'll__regressor__alpha': np.logspace(-4, 2, 60)\n",
    "}"
   ]
  },
  {
   "cell_type": "code",
   "execution_count": 14,
   "id": "c1926d92-1766-4962-a3f9-4897c82f4cd1",
   "metadata": {},
   "outputs": [],
   "source": [
    "logreg_gridsearch = GridSearchCV(logreg_pipe,     \n",
    "                              logreg_params,\n",
    "                              cv=5,        \n",
    "                              verbose=1,\n",
    "                              n_jobs=-2)"
   ]
  },
  {
   "cell_type": "code",
   "execution_count": 15,
   "id": "a5348369-1733-471d-ab23-c723b6c10910",
   "metadata": {},
   "outputs": [
    {
     "name": "stdout",
     "output_type": "stream",
     "text": [
      "Fitting 5 folds for each of 300 candidates, totalling 1500 fits\n"
     ]
    },
    {
     "data": {
      "text/plain": [
       "GridSearchCV(cv=5,\n",
       "             estimator=Pipeline(steps=[('ss', StandardScaler()), ('pca', PCA()),\n",
       "                                       ('ll',\n",
       "                                        TransformedTargetRegressor(func=<ufunc 'log'>,\n",
       "                                                                   inverse_func=<ufunc 'exp'>,\n",
       "                                                                   regressor=Lasso()))]),\n",
       "             n_jobs=-2,\n",
       "             param_grid={'ll__regressor__alpha': array([1.00000000e-04, 1.26384820e-04, 1.59731228e-04, 2.01876025e-04,\n",
       "       2.55140652e-04, 3.22459055e-04, 4.07539297e-04, 5.15067808e-...\n",
       "       4.58159767e-01, 5.79044398e-01, 7.31824222e-01, 9.24914728e-01,\n",
       "       1.16895182e+00, 1.47737765e+00, 1.86718109e+00, 2.35983347e+00,\n",
       "       2.98247129e+00, 3.76939098e+00, 4.76393801e+00, 6.02089449e+00,\n",
       "       7.60949669e+00, 9.61724871e+00, 1.21547425e+01, 1.53617495e+01,\n",
       "       1.94149195e+01, 2.45375111e+01, 3.10116893e+01, 3.91940677e+01,\n",
       "       4.95353521e+01, 6.26051657e+01, 7.91234262e+01, 1.00000000e+02]),\n",
       "                         'pca__n_components': [1, 2, 3, 4, 5]},\n",
       "             verbose=1)"
      ]
     },
     "execution_count": 15,
     "metadata": {},
     "output_type": "execute_result"
    }
   ],
   "source": [
    "logreg_gridsearch.fit(X_train, y_train)"
   ]
  },
  {
   "cell_type": "code",
   "execution_count": 16,
   "id": "ff68c1bf-4ffa-4d78-ba84-df73099877c8",
   "metadata": {},
   "outputs": [
    {
     "data": {
      "text/plain": [
       "{'ll__regressor__alpha': 0.11242100350620873, 'pca__n_components': 3}"
      ]
     },
     "execution_count": 16,
     "metadata": {},
     "output_type": "execute_result"
    }
   ],
   "source": [
    "logreg_gridsearch.best_params_"
   ]
  },
  {
   "cell_type": "code",
   "execution_count": 17,
   "id": "330c8dcf-ee6d-488b-9a6b-0fb38c7f6d16",
   "metadata": {},
   "outputs": [
    {
     "data": {
      "text/plain": [
       "-0.05718121871674002"
      ]
     },
     "execution_count": 17,
     "metadata": {},
     "output_type": "execute_result"
    }
   ],
   "source": [
    "logreg_gridsearch.best_score_"
   ]
  },
  {
   "cell_type": "code",
   "execution_count": 18,
   "id": "4dcc4740-1a32-41c6-89f9-1bb2837d3a30",
   "metadata": {},
   "outputs": [
    {
     "data": {
      "text/plain": [
       "-0.007297340652984152"
      ]
     },
     "execution_count": 18,
     "metadata": {},
     "output_type": "execute_result"
    }
   ],
   "source": [
    "logreg_gridsearch.score(X_test, y_test)"
   ]
  },
  {
   "cell_type": "markdown",
   "id": "e82c371a-7521-48a5-a676-d72696667624",
   "metadata": {},
   "source": [
    "So it looks like linear regression with PCA and a log transform on `revenue` does not do better than the null model!"
   ]
  },
  {
   "cell_type": "markdown",
   "id": "85966841-37fc-4349-9047-9d478e36d9a3",
   "metadata": {},
   "source": [
    "## No log transform"
   ]
  },
  {
   "cell_type": "code",
   "execution_count": 19,
   "id": "49124020-53c9-41dd-a959-63058aff4068",
   "metadata": {},
   "outputs": [],
   "source": [
    "lin_pipe = Pipeline([\n",
    "    ('ss', StandardScaler()),\n",
    "    ('pca', PCA()),\n",
    "    ('lr', Lasso())\n",
    "])"
   ]
  },
  {
   "cell_type": "code",
   "execution_count": 20,
   "id": "45946ef0-c626-4bb8-bd2f-abce56338687",
   "metadata": {},
   "outputs": [],
   "source": [
    "lin_params = {\n",
    "    'pca__n_components': list(range(1,11)),\n",
    "    'lr__alpha': np.logspace(-4, 2, 60)\n",
    "}"
   ]
  },
  {
   "cell_type": "code",
   "execution_count": 21,
   "id": "de147986-9476-496e-929d-88fee776b947",
   "metadata": {},
   "outputs": [],
   "source": [
    "lin_gridsearch = GridSearchCV(lin_pipe,     \n",
    "                              lin_params,\n",
    "                              cv=5,        \n",
    "                              verbose=1,\n",
    "                              n_jobs=-2)"
   ]
  },
  {
   "cell_type": "code",
   "execution_count": 22,
   "id": "fb8b2966-07a3-43a6-8bb9-a5112f47c2d8",
   "metadata": {},
   "outputs": [
    {
     "name": "stdout",
     "output_type": "stream",
     "text": [
      "Fitting 5 folds for each of 600 candidates, totalling 3000 fits\n"
     ]
    },
    {
     "data": {
      "text/plain": [
       "GridSearchCV(cv=5,\n",
       "             estimator=Pipeline(steps=[('ss', StandardScaler()), ('pca', PCA()),\n",
       "                                       ('lr', Lasso())]),\n",
       "             n_jobs=-2,\n",
       "             param_grid={'lr__alpha': array([1.00000000e-04, 1.26384820e-04, 1.59731228e-04, 2.01876025e-04,\n",
       "       2.55140652e-04, 3.22459055e-04, 4.07539297e-04, 5.15067808e-04,\n",
       "       6.50967523e-04, 8.22724134e-04, 1.03979842e-03, 1.31414736e-03,\n",
       "       1.66088278e-03, 2.09910372e-03,...\n",
       "       1.16895182e+00, 1.47737765e+00, 1.86718109e+00, 2.35983347e+00,\n",
       "       2.98247129e+00, 3.76939098e+00, 4.76393801e+00, 6.02089449e+00,\n",
       "       7.60949669e+00, 9.61724871e+00, 1.21547425e+01, 1.53617495e+01,\n",
       "       1.94149195e+01, 2.45375111e+01, 3.10116893e+01, 3.91940677e+01,\n",
       "       4.95353521e+01, 6.26051657e+01, 7.91234262e+01, 1.00000000e+02]),\n",
       "                         'pca__n_components': [1, 2, 3, 4, 5, 6, 7, 8, 9, 10]},\n",
       "             verbose=1)"
      ]
     },
     "execution_count": 22,
     "metadata": {},
     "output_type": "execute_result"
    }
   ],
   "source": [
    "lin_gridsearch.fit(X_train, y_train)"
   ]
  },
  {
   "cell_type": "code",
   "execution_count": 23,
   "id": "79ba6d71-afe5-4892-9cc0-79ad613e6f4f",
   "metadata": {},
   "outputs": [
    {
     "data": {
      "text/plain": [
       "{'lr__alpha': 100.0, 'pca__n_components': 1}"
      ]
     },
     "execution_count": 23,
     "metadata": {},
     "output_type": "execute_result"
    }
   ],
   "source": [
    "lin_gridsearch.best_params_"
   ]
  },
  {
   "cell_type": "code",
   "execution_count": 24,
   "id": "21593bdd-3a83-4313-a1d1-90e236898336",
   "metadata": {},
   "outputs": [
    {
     "data": {
      "text/plain": [
       "-0.054810497865817"
      ]
     },
     "execution_count": 24,
     "metadata": {},
     "output_type": "execute_result"
    }
   ],
   "source": [
    "lin_gridsearch.best_score_"
   ]
  },
  {
   "cell_type": "code",
   "execution_count": 25,
   "id": "66e31d8c-8fa7-4bc0-8e0e-abe80c6b98ad",
   "metadata": {},
   "outputs": [
    {
     "data": {
      "text/plain": [
       "0.0022501297574921697"
      ]
     },
     "execution_count": 25,
     "metadata": {},
     "output_type": "execute_result"
    }
   ],
   "source": [
    "lin_gridsearch.score(X_train, y_train)"
   ]
  },
  {
   "cell_type": "code",
   "execution_count": 26,
   "id": "dc6e3277-c697-4d76-9578-890c5ccd819e",
   "metadata": {},
   "outputs": [
    {
     "data": {
      "text/plain": [
       "-0.010376917578286182"
      ]
     },
     "execution_count": 26,
     "metadata": {},
     "output_type": "execute_result"
    }
   ],
   "source": [
    "lin_gridsearch.score(X_test, y_test)"
   ]
  },
  {
   "cell_type": "markdown",
   "id": "0d805415-9dce-4f33-a5f4-2a8c4b65680e",
   "metadata": {},
   "source": [
    "## kNN"
   ]
  },
  {
   "cell_type": "code",
   "execution_count": 27,
   "id": "594ff779-7d09-4ff6-b2c4-c9aee708570d",
   "metadata": {},
   "outputs": [],
   "source": [
    "knn_pipe = Pipeline([\n",
    "    ('ss', StandardScaler()),\n",
    "    ('pca', PCA()),\n",
    "    ('knn', KNeighborsRegressor())\n",
    "])"
   ]
  },
  {
   "cell_type": "code",
   "execution_count": 28,
   "id": "d48aaece-6d65-4bd5-a13b-b48300366448",
   "metadata": {},
   "outputs": [],
   "source": [
    "knn_params = {\n",
    "    'pca__n_components': list(range(1,11)),\n",
    "    'knn__n_neighbors': [3,5,7,9]\n",
    "}"
   ]
  },
  {
   "cell_type": "code",
   "execution_count": 29,
   "id": "f58a06bd-2a55-4099-961d-c095f82d7948",
   "metadata": {},
   "outputs": [],
   "source": [
    "knn_gridsearch = GridSearchCV(knn_pipe,     \n",
    "                              knn_params,\n",
    "                              cv=5,        \n",
    "                              verbose=1,\n",
    "                              n_jobs=-2)"
   ]
  },
  {
   "cell_type": "code",
   "execution_count": 30,
   "id": "1f7a9644-2bff-4df8-bdf1-a59e3726181e",
   "metadata": {},
   "outputs": [
    {
     "name": "stdout",
     "output_type": "stream",
     "text": [
      "Fitting 5 folds for each of 40 candidates, totalling 200 fits\n"
     ]
    },
    {
     "data": {
      "text/plain": [
       "GridSearchCV(cv=5,\n",
       "             estimator=Pipeline(steps=[('ss', StandardScaler()), ('pca', PCA()),\n",
       "                                       ('knn', KNeighborsRegressor())]),\n",
       "             n_jobs=-2,\n",
       "             param_grid={'knn__n_neighbors': [3, 5, 7, 9],\n",
       "                         'pca__n_components': [1, 2, 3, 4, 5, 6, 7, 8, 9, 10]},\n",
       "             verbose=1)"
      ]
     },
     "execution_count": 30,
     "metadata": {},
     "output_type": "execute_result"
    }
   ],
   "source": [
    "knn_gridsearch.fit(X_train, y_train)"
   ]
  },
  {
   "cell_type": "code",
   "execution_count": 31,
   "id": "dd57a484-0559-4d74-9c66-fd63ec630348",
   "metadata": {},
   "outputs": [
    {
     "data": {
      "text/plain": [
       "{'knn__n_neighbors': 5, 'pca__n_components': 4}"
      ]
     },
     "execution_count": 31,
     "metadata": {},
     "output_type": "execute_result"
    }
   ],
   "source": [
    "knn_gridsearch.best_params_"
   ]
  },
  {
   "cell_type": "code",
   "execution_count": 32,
   "id": "f92d1142-5600-44f8-b16b-ea7817025ffa",
   "metadata": {},
   "outputs": [
    {
     "data": {
      "text/plain": [
       "0.04909548088117597"
      ]
     },
     "execution_count": 32,
     "metadata": {},
     "output_type": "execute_result"
    }
   ],
   "source": [
    "knn_gridsearch.best_score_"
   ]
  },
  {
   "cell_type": "code",
   "execution_count": 33,
   "id": "a0365049-6591-43bc-afb2-6d2da8b22640",
   "metadata": {},
   "outputs": [
    {
     "data": {
      "text/plain": [
       "0.35419281288669924"
      ]
     },
     "execution_count": 33,
     "metadata": {},
     "output_type": "execute_result"
    }
   ],
   "source": [
    "knn_gridsearch.score(X_train, y_train)"
   ]
  },
  {
   "cell_type": "code",
   "execution_count": 34,
   "id": "a63f7293-7444-4911-aaae-3179df37fd34",
   "metadata": {
    "tags": []
   },
   "outputs": [
    {
     "data": {
      "text/plain": [
       "-0.06985380402105035"
      ]
     },
     "execution_count": 34,
     "metadata": {},
     "output_type": "execute_result"
    }
   ],
   "source": [
    "knn_gridsearch.score(X_test, y_test)"
   ]
  },
  {
   "cell_type": "markdown",
   "id": "708451ed-0bed-4509-9d2e-0d5ce688cedb",
   "metadata": {},
   "source": [
    "## kNN log transform"
   ]
  },
  {
   "cell_type": "code",
   "execution_count": 35,
   "id": "6f265206-52e5-4c81-8e2c-32f3ed433242",
   "metadata": {},
   "outputs": [],
   "source": [
    "knn_lr = TransformedTargetRegressor(\n",
    "    regressor=KNeighborsRegressor(),\n",
    "    func = np.log,\n",
    "    inverse_func=np.exp\n",
    ")"
   ]
  },
  {
   "cell_type": "code",
   "execution_count": 36,
   "id": "dec483e1-d97e-4308-a377-a597a1b1c3e0",
   "metadata": {},
   "outputs": [],
   "source": [
    "knn_lr_pipe = Pipeline([\n",
    "    ('ss', StandardScaler()),\n",
    "    ('pca', PCA()),\n",
    "    ('knn', knn_lr)\n",
    "])"
   ]
  },
  {
   "cell_type": "code",
   "execution_count": 37,
   "id": "834ce757-1e68-487a-8964-7e1669254dfc",
   "metadata": {},
   "outputs": [],
   "source": [
    "knn_lr_params = {\n",
    "    'pca__n_components': list(range(1,11)),\n",
    "    'knn__regressor__n_neighbors': [3,5,7,9]\n",
    "}"
   ]
  },
  {
   "cell_type": "code",
   "execution_count": 38,
   "id": "4bdaef6f-6115-42ec-bcef-1424f3fd03a7",
   "metadata": {},
   "outputs": [],
   "source": [
    "knn_lr_gridsearch = GridSearchCV(knn_lr_pipe,     \n",
    "                              knn_lr_params,\n",
    "                              cv=5,        \n",
    "                              verbose=1,\n",
    "                              n_jobs=-2)"
   ]
  },
  {
   "cell_type": "code",
   "execution_count": 39,
   "id": "db592a95-d834-499e-a592-51ab6e4bcca9",
   "metadata": {},
   "outputs": [
    {
     "name": "stdout",
     "output_type": "stream",
     "text": [
      "Fitting 5 folds for each of 40 candidates, totalling 200 fits\n"
     ]
    },
    {
     "data": {
      "text/plain": [
       "GridSearchCV(cv=5,\n",
       "             estimator=Pipeline(steps=[('ss', StandardScaler()), ('pca', PCA()),\n",
       "                                       ('knn',\n",
       "                                        TransformedTargetRegressor(func=<ufunc 'log'>,\n",
       "                                                                   inverse_func=<ufunc 'exp'>,\n",
       "                                                                   regressor=KNeighborsRegressor()))]),\n",
       "             n_jobs=-2,\n",
       "             param_grid={'knn__regressor__n_neighbors': [3, 5, 7, 9],\n",
       "                         'pca__n_components': [1, 2, 3, 4, 5, 6, 7, 8, 9, 10]},\n",
       "             verbose=1)"
      ]
     },
     "execution_count": 39,
     "metadata": {},
     "output_type": "execute_result"
    }
   ],
   "source": [
    "knn_lr_gridsearch.fit(X_train, y_train)"
   ]
  },
  {
   "cell_type": "code",
   "execution_count": 40,
   "id": "a8771a09-d807-4dcb-b1f5-951d17e9dfdd",
   "metadata": {},
   "outputs": [
    {
     "data": {
      "text/plain": [
       "{'knn__regressor__n_neighbors': 5, 'pca__n_components': 3}"
      ]
     },
     "execution_count": 40,
     "metadata": {},
     "output_type": "execute_result"
    }
   ],
   "source": [
    "knn_lr_gridsearch.best_params_"
   ]
  },
  {
   "cell_type": "code",
   "execution_count": 41,
   "id": "d8717169-67b7-445b-bf71-e3bb6ea1aab6",
   "metadata": {},
   "outputs": [
    {
     "data": {
      "text/plain": [
       "0.038481582281517504"
      ]
     },
     "execution_count": 41,
     "metadata": {},
     "output_type": "execute_result"
    }
   ],
   "source": [
    "knn_lr_gridsearch.best_score_"
   ]
  },
  {
   "cell_type": "code",
   "execution_count": 42,
   "id": "772df91e-9c01-4f0c-bbc6-aeca3874a40e",
   "metadata": {},
   "outputs": [
    {
     "data": {
      "text/plain": [
       "0.3271879045499848"
      ]
     },
     "execution_count": 42,
     "metadata": {},
     "output_type": "execute_result"
    }
   ],
   "source": [
    "knn_lr_gridsearch.score(X_train, y_train)"
   ]
  },
  {
   "cell_type": "code",
   "execution_count": 43,
   "id": "d68ef077-16c7-4d7d-85ce-a4b9b31f037c",
   "metadata": {
    "tags": []
   },
   "outputs": [
    {
     "data": {
      "text/plain": [
       "-0.10946596275794152"
      ]
     },
     "execution_count": 43,
     "metadata": {},
     "output_type": "execute_result"
    }
   ],
   "source": [
    "knn_lr_gridsearch.score(X_test, y_test)"
   ]
  },
  {
   "cell_type": "markdown",
   "id": "b9677212-c9cc-4b51-bec3-566a86f4f94b",
   "metadata": {},
   "source": [
    "# Non-PCA Methods"
   ]
  },
  {
   "cell_type": "markdown",
   "id": "a308a90b-be1e-4a2e-bdee-58c5c65d757c",
   "metadata": {},
   "source": [
    "## Gradient Boosting"
   ]
  },
  {
   "cell_type": "code",
   "execution_count": 44,
   "id": "e86ca74c-3bbe-48f6-9c99-b08269b573f0",
   "metadata": {},
   "outputs": [],
   "source": [
    "gboost = GradientBoostingRegressor(random_state=42)\n",
    "\n",
    "gboost_params = {\n",
    "    'max_depth': [2, 3, 4],\n",
    "    'n_estimators': range(10,51,10),\n",
    "    'learning_rate': [0.1, .3, .5, 1]\n",
    "}\n",
    "\n",
    "gb_gs = GridSearchCV(gboost, param_grid=gboost_params)"
   ]
  },
  {
   "cell_type": "code",
   "execution_count": 45,
   "id": "4ee68814-22e8-461f-bff0-e9e0bdde64ee",
   "metadata": {},
   "outputs": [
    {
     "data": {
      "text/plain": [
       "GridSearchCV(estimator=GradientBoostingRegressor(random_state=42),\n",
       "             param_grid={'learning_rate': [0.1, 0.3, 0.5, 1],\n",
       "                         'max_depth': [2, 3, 4],\n",
       "                         'n_estimators': range(10, 51, 10)})"
      ]
     },
     "execution_count": 45,
     "metadata": {},
     "output_type": "execute_result"
    }
   ],
   "source": [
    "gb_gs.fit(X_train, y_train)"
   ]
  },
  {
   "cell_type": "code",
   "execution_count": 46,
   "id": "b8b93d98-366b-48f1-a22e-4fd93ff5e59a",
   "metadata": {},
   "outputs": [
    {
     "data": {
      "text/plain": [
       "{'learning_rate': 0.1, 'max_depth': 2, 'n_estimators': 10}"
      ]
     },
     "execution_count": 46,
     "metadata": {},
     "output_type": "execute_result"
    }
   ],
   "source": [
    "gb_gs.best_params_"
   ]
  },
  {
   "cell_type": "code",
   "execution_count": 47,
   "id": "75517b81-3b74-4566-9a33-cec6c67345ae",
   "metadata": {},
   "outputs": [
    {
     "data": {
      "text/plain": [
       "-0.17400043917769173"
      ]
     },
     "execution_count": 47,
     "metadata": {},
     "output_type": "execute_result"
    }
   ],
   "source": [
    "gb_gs.best_score_"
   ]
  },
  {
   "cell_type": "code",
   "execution_count": 48,
   "id": "089146c7-d800-483f-8109-9c9a51372042",
   "metadata": {},
   "outputs": [
    {
     "data": {
      "text/plain": [
       "0.33467817564642854"
      ]
     },
     "execution_count": 48,
     "metadata": {},
     "output_type": "execute_result"
    }
   ],
   "source": [
    "gb_gs.score(X_train, y_train)"
   ]
  },
  {
   "cell_type": "code",
   "execution_count": 49,
   "id": "a9716faa-f965-445b-9bee-fef7a09c4841",
   "metadata": {},
   "outputs": [
    {
     "data": {
      "text/plain": [
       "-0.0009466959231283489"
      ]
     },
     "execution_count": 49,
     "metadata": {},
     "output_type": "execute_result"
    }
   ],
   "source": [
    "gb_gs.score(X_test, y_test)"
   ]
  },
  {
   "cell_type": "markdown",
   "id": "b21c4e83-3652-4491-bc7c-449ed10c4aff",
   "metadata": {},
   "source": [
    "### More refined gridsearch"
   ]
  },
  {
   "cell_type": "code",
   "execution_count": 50,
   "id": "67ab7188-cf30-4f50-a06f-afe957fa673a",
   "metadata": {},
   "outputs": [],
   "source": [
    "gboost = GradientBoostingRegressor(random_state=42)\n",
    "\n",
    "gboost_params = {\n",
    "    'max_depth': [2, 3, 4],\n",
    "    'n_estimators': [5,6,7,8,9,10,11,12,13,14,15],\n",
    "    'learning_rate': [0.1, .01, .05]\n",
    "}\n",
    "\n",
    "gb_gs1 = GridSearchCV(gboost, param_grid=gboost_params)"
   ]
  },
  {
   "cell_type": "code",
   "execution_count": 51,
   "id": "b887cf43-ba72-463c-90bb-8a2490bec2c6",
   "metadata": {},
   "outputs": [
    {
     "data": {
      "text/plain": [
       "GridSearchCV(estimator=GradientBoostingRegressor(random_state=42),\n",
       "             param_grid={'learning_rate': [0.1, 0.01, 0.05],\n",
       "                         'max_depth': [2, 3, 4],\n",
       "                         'n_estimators': [5, 6, 7, 8, 9, 10, 11, 12, 13, 14,\n",
       "                                          15]})"
      ]
     },
     "execution_count": 51,
     "metadata": {},
     "output_type": "execute_result"
    }
   ],
   "source": [
    "gb_gs1.fit(X_train, y_train)"
   ]
  },
  {
   "cell_type": "code",
   "execution_count": 52,
   "id": "8f4519da-27d7-43c5-ad2a-96c9c7ed064f",
   "metadata": {},
   "outputs": [
    {
     "data": {
      "text/plain": [
       "{'learning_rate': 0.01, 'max_depth': 4, 'n_estimators': 15}"
      ]
     },
     "execution_count": 52,
     "metadata": {},
     "output_type": "execute_result"
    }
   ],
   "source": [
    "gb_gs1.best_params_"
   ]
  },
  {
   "cell_type": "code",
   "execution_count": 53,
   "id": "5d65fd9d-798b-4a96-9b88-7b0365b7e7f9",
   "metadata": {},
   "outputs": [
    {
     "data": {
      "text/plain": [
       "0.03517901944921953"
      ]
     },
     "execution_count": 53,
     "metadata": {},
     "output_type": "execute_result"
    }
   ],
   "source": [
    "gb_gs1.best_score_"
   ]
  },
  {
   "cell_type": "code",
   "execution_count": 54,
   "id": "87f631aa-5dde-4724-a35a-2c3650435277",
   "metadata": {},
   "outputs": [
    {
     "data": {
      "text/plain": [
       "0.16302590556225738"
      ]
     },
     "execution_count": 54,
     "metadata": {},
     "output_type": "execute_result"
    }
   ],
   "source": [
    "gb_gs1.score(X_train, y_train)"
   ]
  },
  {
   "cell_type": "code",
   "execution_count": 55,
   "id": "e794bf4c-cb86-45be-b857-54d9a059978b",
   "metadata": {},
   "outputs": [
    {
     "data": {
      "text/plain": [
       "0.0027394001605182128"
      ]
     },
     "execution_count": 55,
     "metadata": {},
     "output_type": "execute_result"
    }
   ],
   "source": [
    "gb_gs1.score(X_test, y_test)"
   ]
  },
  {
   "cell_type": "markdown",
   "id": "3e83557b-d50c-4042-bff2-c3bf69d38afe",
   "metadata": {},
   "source": [
    "### Even more refined gridsearch"
   ]
  },
  {
   "cell_type": "code",
   "execution_count": 56,
   "id": "22fcd4fa-a4e1-4d96-8e69-344412925cc2",
   "metadata": {},
   "outputs": [],
   "source": [
    "gboost = GradientBoostingRegressor(random_state=42)\n",
    "\n",
    "gboost_params = {\n",
    "    'max_depth': [2, 3, 4, 5],\n",
    "    'n_estimators': [10,12,15,17,19,21],\n",
    "    'learning_rate': [.005, .01, .001]\n",
    "}\n",
    "\n",
    "gb_gs2 = GridSearchCV(gboost, param_grid=gboost_params)"
   ]
  },
  {
   "cell_type": "code",
   "execution_count": 57,
   "id": "f769f088-c680-4ce5-b7a4-109171b50aae",
   "metadata": {},
   "outputs": [
    {
     "data": {
      "text/plain": [
       "GridSearchCV(estimator=GradientBoostingRegressor(random_state=42),\n",
       "             param_grid={'learning_rate': [0.005, 0.01, 0.001],\n",
       "                         'max_depth': [2, 3, 4, 5],\n",
       "                         'n_estimators': [10, 12, 15, 17, 19, 21]})"
      ]
     },
     "execution_count": 57,
     "metadata": {},
     "output_type": "execute_result"
    }
   ],
   "source": [
    "gb_gs2.fit(X_train, y_train)"
   ]
  },
  {
   "cell_type": "code",
   "execution_count": 58,
   "id": "c62ac4ed-5f15-42c8-9d45-03639fa5ceb2",
   "metadata": {},
   "outputs": [
    {
     "data": {
      "text/plain": [
       "{'learning_rate': 0.01, 'max_depth': 4, 'n_estimators': 21}"
      ]
     },
     "execution_count": 58,
     "metadata": {},
     "output_type": "execute_result"
    }
   ],
   "source": [
    "gb_gs2.best_params_"
   ]
  },
  {
   "cell_type": "code",
   "execution_count": 59,
   "id": "b9e849c4-d380-4392-9c1b-faa349658d70",
   "metadata": {},
   "outputs": [
    {
     "data": {
      "text/plain": [
       "0.038492075157451365"
      ]
     },
     "execution_count": 59,
     "metadata": {},
     "output_type": "execute_result"
    }
   ],
   "source": [
    "gb_gs2.best_score_"
   ]
  },
  {
   "cell_type": "code",
   "execution_count": 60,
   "id": "c417512b-54e0-4a6d-b546-c7cbd54852f8",
   "metadata": {},
   "outputs": [
    {
     "data": {
      "text/plain": [
       "0.216118411278456"
      ]
     },
     "execution_count": 60,
     "metadata": {},
     "output_type": "execute_result"
    }
   ],
   "source": [
    "gb_gs2.score(X_train, y_train)"
   ]
  },
  {
   "cell_type": "code",
   "execution_count": 61,
   "id": "3107988e-f9fb-4030-b5dd-1cd78fc42398",
   "metadata": {},
   "outputs": [
    {
     "data": {
      "text/plain": [
       "0.003330135177407323"
      ]
     },
     "execution_count": 61,
     "metadata": {},
     "output_type": "execute_result"
    }
   ],
   "source": [
    "gb_gs2.score(X_test, y_test)"
   ]
  },
  {
   "cell_type": "markdown",
   "id": "ff905930-b128-4267-bcc2-f3cd0f67ebc4",
   "metadata": {},
   "source": [
    "## Other approaches"
   ]
  },
  {
   "cell_type": "code",
   "execution_count": 62,
   "id": "7889080f-ec48-443c-81ee-7086bba7baf7",
   "metadata": {},
   "outputs": [
    {
     "name": "stdout",
     "output_type": "stream",
     "text": [
      "RandomForestRegressor()\n",
      "CV Score: -0.1476894034883007\n",
      "Test Score: 0.0686871891465477\n",
      "Train Score: 0.845166838387543\n",
      "KNeighborsRegressor()\n",
      "CV Score: -0.1151804712353891\n",
      "Test Score: 0.15678741258451556\n",
      "Train Score: 0.2277745734602642\n",
      "LinearRegression()\n",
      "CV Score: -18.083622805807558\n",
      "Test Score: -0.7830577113389798\n",
      "Train Score: 0.5439282478628904\n",
      "BaggingRegressor()\n",
      "CV Score: -0.17179934120058002\n",
      "Test Score: -0.07765044849653213\n",
      "Train Score: 0.7372251413986908\n",
      "AdaBoostRegressor()\n",
      "CV Score: -0.3474016467497181\n",
      "Test Score: 0.024393869340119\n",
      "Train Score: 0.6855284309529406\n"
     ]
    }
   ],
   "source": [
    "#Without standard scaling - yes I know this is weird for KNN\n",
    "\n",
    "regressors = [\n",
    "    RandomForestRegressor(),\n",
    "    KNeighborsRegressor(),\n",
    "    LinearRegression(),\n",
    "    BaggingRegressor(),\n",
    "    AdaBoostRegressor()]\n",
    "\n",
    "for reg in regressors:\n",
    "    print(reg)\n",
    "    reg.fit(X_train, y_train)\n",
    "    test_score = reg.score(X_test, y_test)\n",
    "    train_score = reg.score(X_train, y_train)\n",
    "    print(f\"CV Score: {cross_val_score(reg, X_train, y_train).mean()}\")\n",
    "    print(f\"Test Score: {test_score}\")\n",
    "    print(f\"Train Score: {train_score}\")"
   ]
  },
  {
   "cell_type": "code",
   "execution_count": 63,
   "id": "9522f26b-66c3-4d10-965f-e26f17f4fe2f",
   "metadata": {},
   "outputs": [
    {
     "name": "stdout",
     "output_type": "stream",
     "text": [
      "RandomForestRegressor()\n",
      "CV Score: -0.13669049391393714\n",
      "Test Score: 0.06223604582263986\n",
      "Train Score: 0.83326715415132\n",
      "KNeighborsRegressor()\n",
      "CV Score: -0.05636004084062871\n",
      "Test Score: 0.04487283888407634\n",
      "Train Score: 0.35858476672937156\n",
      "LinearRegression()\n",
      "CV Score: -18.083624104176558\n",
      "Test Score: -0.7830577107336791\n",
      "Train Score: 0.5439282478628904\n",
      "BaggingRegressor()\n",
      "CV Score: -0.12197929929683207\n",
      "Test Score: 0.036955035091154054\n",
      "Train Score: 0.7422115059311114\n",
      "AdaBoostRegressor()\n",
      "CV Score: -0.27363862558090146\n",
      "Test Score: 0.023702396980586737\n",
      "Train Score: 0.6938571512410432\n"
     ]
    }
   ],
   "source": [
    "#With standard scaling\n",
    "\n",
    "regressors = [\n",
    "    RandomForestRegressor(),\n",
    "    KNeighborsRegressor(),\n",
    "    LinearRegression(),\n",
    "    BaggingRegressor(),\n",
    "    AdaBoostRegressor()]\n",
    "\n",
    "for reg in regressors:\n",
    "    reg.fit(X_train_sc, y_train)\n",
    "    test_score = reg.score(X_test_sc, y_test)\n",
    "    train_score = reg.score(X_train_sc, y_train)\n",
    "    print(reg)\n",
    "    print(f\"CV Score: {cross_val_score(reg, X_train_sc, y_train).mean()}\")\n",
    "    print(f\"Test Score: {test_score}\")\n",
    "    print(f\"Train Score: {train_score}\")"
   ]
  },
  {
   "cell_type": "code",
   "execution_count": 64,
   "id": "1c069dc8-4fd2-4fe4-a946-af6a7c9caac5",
   "metadata": {},
   "outputs": [
    {
     "data": {
      "text/plain": [
       "open_utc       1.261632e+08\n",
       "p32            6.240691e+00\n",
       "p34            6.226536e+00\n",
       "p30            6.171499e+00\n",
       "p23            5.762382e+00\n",
       "p19            5.699034e+00\n",
       "p36            4.901037e+00\n",
       "p20            4.133690e+00\n",
       "p16            4.025549e+00\n",
       "p31            3.921070e+00\n",
       "p35            3.820555e+00\n",
       "p18            3.482248e+00\n",
       "p14            3.070598e+00\n",
       "p26            3.022812e+00\n",
       "p21            2.842652e+00\n",
       "p1             2.745508e+00\n",
       "p17            2.711631e+00\n",
       "p27            2.657872e+00\n",
       "p24            2.593463e+00\n",
       "p15            2.527163e+00\n",
       "p7             2.496384e+00\n",
       "p25            2.281456e+00\n",
       "p12            2.048980e+00\n",
       "p6             1.999159e+00\n",
       "p10            1.959678e+00\n",
       "p9             1.959678e+00\n",
       "p11            1.956674e+00\n",
       "p28            1.926921e+00\n",
       "p8             1.875091e+00\n",
       "p37            1.822824e+00\n",
       "p29            1.643040e+00\n",
       "p2             1.637276e+00\n",
       "p33            1.495090e+00\n",
       "p22            1.278786e+00\n",
       "p13            1.076291e+00\n",
       "p5             1.067472e+00\n",
       "p4             9.858239e-01\n",
       "p3             9.056313e-01\n",
       "is_inline      5.070926e-01\n",
       "is_big_city    5.054327e-01\n",
       "dtype: float64"
      ]
     },
     "execution_count": 64,
     "metadata": {},
     "output_type": "execute_result"
    }
   ],
   "source": [
    "X_test.std().sort_values(ascending=False)"
   ]
  },
  {
   "cell_type": "markdown",
   "id": "25f9b354-6490-474e-ad38-ed39491e1217",
   "metadata": {},
   "source": [
    "## Trying only using one feature"
   ]
  },
  {
   "cell_type": "markdown",
   "id": "c5a2ede7-92c1-482c-8127-661ad23a0ee0",
   "metadata": {},
   "source": [
    "### `open_utc`"
   ]
  },
  {
   "cell_type": "code",
   "execution_count": 65,
   "id": "28848225-2720-4b6a-a198-bdca054dae26",
   "metadata": {},
   "outputs": [],
   "source": [
    "X_train_sm = X_train[['open_utc']]\n",
    "X_test_sm = X_test[['open_utc']]"
   ]
  },
  {
   "cell_type": "code",
   "execution_count": 66,
   "id": "04601b59-0f3b-4681-8df1-841b95adecf7",
   "metadata": {},
   "outputs": [
    {
     "name": "stdout",
     "output_type": "stream",
     "text": [
      "KNeighborsRegressor()\n",
      "CV Score: -0.1151804712353891\n",
      "Test Score: 0.15444415230013764\n",
      "Train Score: 0.2277745734602642\n",
      "LinearRegression()\n",
      "CV Score: -0.038213258082492874\n",
      "Test Score: 0.1466182185478504\n",
      "Train Score: 0.061107650524979795\n"
     ]
    }
   ],
   "source": [
    "regressors = [\n",
    "    KNeighborsRegressor(),\n",
    "    LinearRegression()]\n",
    "\n",
    "for reg in regressors:\n",
    "    print(reg)\n",
    "    print(f\"CV Score: {cross_val_score(reg, X_train_sm, y_train).mean()}\")\n",
    "    reg.fit(X_train_sm, y_train)\n",
    "    train_score = reg.score(X_train_sm, y_train)\n",
    "    test_score = reg.score(X_test_sm, y_test)\n",
    "    print(f\"Test Score: {test_score}\")\n",
    "    print(f\"Train Score: {train_score}\")"
   ]
  },
  {
   "cell_type": "markdown",
   "id": "ad423e19-f85e-4461-ac6c-7aa69eae3b6a",
   "metadata": {},
   "source": [
    "# Null model"
   ]
  },
  {
   "cell_type": "code",
   "execution_count": 67,
   "id": "652f2d5b-5664-4d95-bf68-21833b03ff71",
   "metadata": {},
   "outputs": [
    {
     "data": {
      "text/html": [
       "<div>\n",
       "<style scoped>\n",
       "    .dataframe tbody tr th:only-of-type {\n",
       "        vertical-align: middle;\n",
       "    }\n",
       "\n",
       "    .dataframe tbody tr th {\n",
       "        vertical-align: top;\n",
       "    }\n",
       "\n",
       "    .dataframe thead th {\n",
       "        text-align: right;\n",
       "    }\n",
       "</style>\n",
       "<table border=\"1\" class=\"dataframe\">\n",
       "  <thead>\n",
       "    <tr style=\"text-align: right;\">\n",
       "      <th></th>\n",
       "      <th>p1</th>\n",
       "      <th>p2</th>\n",
       "      <th>p3</th>\n",
       "      <th>p4</th>\n",
       "      <th>p5</th>\n",
       "      <th>p6</th>\n",
       "      <th>p7</th>\n",
       "      <th>p8</th>\n",
       "      <th>p9</th>\n",
       "      <th>p10</th>\n",
       "      <th>...</th>\n",
       "      <th>p31</th>\n",
       "      <th>p32</th>\n",
       "      <th>p33</th>\n",
       "      <th>p34</th>\n",
       "      <th>p35</th>\n",
       "      <th>p36</th>\n",
       "      <th>p37</th>\n",
       "      <th>is_inline</th>\n",
       "      <th>open_utc</th>\n",
       "      <th>is_big_city</th>\n",
       "    </tr>\n",
       "    <tr>\n",
       "      <th>Id</th>\n",
       "      <th></th>\n",
       "      <th></th>\n",
       "      <th></th>\n",
       "      <th></th>\n",
       "      <th></th>\n",
       "      <th></th>\n",
       "      <th></th>\n",
       "      <th></th>\n",
       "      <th></th>\n",
       "      <th></th>\n",
       "      <th></th>\n",
       "      <th></th>\n",
       "      <th></th>\n",
       "      <th></th>\n",
       "      <th></th>\n",
       "      <th></th>\n",
       "      <th></th>\n",
       "      <th></th>\n",
       "      <th></th>\n",
       "      <th></th>\n",
       "      <th></th>\n",
       "    </tr>\n",
       "  </thead>\n",
       "  <tbody>\n",
       "    <tr>\n",
       "      <th>117</th>\n",
       "      <td>3</td>\n",
       "      <td>5.0</td>\n",
       "      <td>4.0</td>\n",
       "      <td>5.0</td>\n",
       "      <td>3</td>\n",
       "      <td>3</td>\n",
       "      <td>5</td>\n",
       "      <td>4</td>\n",
       "      <td>4</td>\n",
       "      <td>5</td>\n",
       "      <td>...</td>\n",
       "      <td>3</td>\n",
       "      <td>3</td>\n",
       "      <td>2</td>\n",
       "      <td>3</td>\n",
       "      <td>4</td>\n",
       "      <td>3</td>\n",
       "      <td>1</td>\n",
       "      <td>1</td>\n",
       "      <td>1.135642e+09</td>\n",
       "      <td>1</td>\n",
       "    </tr>\n",
       "    <tr>\n",
       "      <th>101</th>\n",
       "      <td>3</td>\n",
       "      <td>4.0</td>\n",
       "      <td>5.0</td>\n",
       "      <td>4.0</td>\n",
       "      <td>2</td>\n",
       "      <td>2</td>\n",
       "      <td>5</td>\n",
       "      <td>4</td>\n",
       "      <td>5</td>\n",
       "      <td>5</td>\n",
       "      <td>...</td>\n",
       "      <td>5</td>\n",
       "      <td>5</td>\n",
       "      <td>5</td>\n",
       "      <td>4</td>\n",
       "      <td>5</td>\n",
       "      <td>5</td>\n",
       "      <td>4</td>\n",
       "      <td>1</td>\n",
       "      <td>1.347149e+09</td>\n",
       "      <td>0</td>\n",
       "    </tr>\n",
       "    <tr>\n",
       "      <th>0</th>\n",
       "      <td>4</td>\n",
       "      <td>5.0</td>\n",
       "      <td>4.0</td>\n",
       "      <td>4.0</td>\n",
       "      <td>2</td>\n",
       "      <td>2</td>\n",
       "      <td>5</td>\n",
       "      <td>4</td>\n",
       "      <td>5</td>\n",
       "      <td>5</td>\n",
       "      <td>...</td>\n",
       "      <td>3</td>\n",
       "      <td>4</td>\n",
       "      <td>5</td>\n",
       "      <td>5</td>\n",
       "      <td>4</td>\n",
       "      <td>3</td>\n",
       "      <td>4</td>\n",
       "      <td>1</td>\n",
       "      <td>9.321696e+08</td>\n",
       "      <td>1</td>\n",
       "    </tr>\n",
       "    <tr>\n",
       "      <th>78</th>\n",
       "      <td>9</td>\n",
       "      <td>7.5</td>\n",
       "      <td>6.0</td>\n",
       "      <td>7.5</td>\n",
       "      <td>8</td>\n",
       "      <td>6</td>\n",
       "      <td>10</td>\n",
       "      <td>10</td>\n",
       "      <td>8</td>\n",
       "      <td>8</td>\n",
       "      <td>...</td>\n",
       "      <td>9</td>\n",
       "      <td>20</td>\n",
       "      <td>4</td>\n",
       "      <td>18</td>\n",
       "      <td>12</td>\n",
       "      <td>12</td>\n",
       "      <td>2</td>\n",
       "      <td>1</td>\n",
       "      <td>1.348877e+09</td>\n",
       "      <td>1</td>\n",
       "    </tr>\n",
       "    <tr>\n",
       "      <th>62</th>\n",
       "      <td>2</td>\n",
       "      <td>4.0</td>\n",
       "      <td>4.0</td>\n",
       "      <td>4.0</td>\n",
       "      <td>2</td>\n",
       "      <td>3</td>\n",
       "      <td>5</td>\n",
       "      <td>5</td>\n",
       "      <td>5</td>\n",
       "      <td>4</td>\n",
       "      <td>...</td>\n",
       "      <td>1</td>\n",
       "      <td>3</td>\n",
       "      <td>2</td>\n",
       "      <td>3</td>\n",
       "      <td>1</td>\n",
       "      <td>3</td>\n",
       "      <td>3</td>\n",
       "      <td>0</td>\n",
       "      <td>1.289779e+09</td>\n",
       "      <td>0</td>\n",
       "    </tr>\n",
       "  </tbody>\n",
       "</table>\n",
       "<p>5 rows × 40 columns</p>\n",
       "</div>"
      ],
      "text/plain": [
       "     p1   p2   p3   p4  p5  p6  p7  p8  p9  p10  ...  p31  p32  p33  p34  p35  \\\n",
       "Id                                               ...                            \n",
       "117   3  5.0  4.0  5.0   3   3   5   4   4    5  ...    3    3    2    3    4   \n",
       "101   3  4.0  5.0  4.0   2   2   5   4   5    5  ...    5    5    5    4    5   \n",
       "0     4  5.0  4.0  4.0   2   2   5   4   5    5  ...    3    4    5    5    4   \n",
       "78    9  7.5  6.0  7.5   8   6  10  10   8    8  ...    9   20    4   18   12   \n",
       "62    2  4.0  4.0  4.0   2   3   5   5   5    4  ...    1    3    2    3    1   \n",
       "\n",
       "     p36  p37  is_inline      open_utc  is_big_city  \n",
       "Id                                                   \n",
       "117    3    1          1  1.135642e+09            1  \n",
       "101    5    4          1  1.347149e+09            0  \n",
       "0      3    4          1  9.321696e+08            1  \n",
       "78    12    2          1  1.348877e+09            1  \n",
       "62     3    3          0  1.289779e+09            0  \n",
       "\n",
       "[5 rows x 40 columns]"
      ]
     },
     "execution_count": 67,
     "metadata": {},
     "output_type": "execute_result"
    }
   ],
   "source": [
    "X_train.head()"
   ]
  },
  {
   "cell_type": "code",
   "execution_count": 68,
   "id": "4ac4af1a-1987-4f16-8685-cd2abc0bd18a",
   "metadata": {},
   "outputs": [
    {
     "data": {
      "text/plain": [
       "4415069.94117647"
      ]
     },
     "execution_count": 68,
     "metadata": {},
     "output_type": "execute_result"
    }
   ],
   "source": [
    "null_pred = y_train.mean()\n",
    "null_pred"
   ]
  },
  {
   "cell_type": "code",
   "execution_count": 69,
   "id": "989823f0-b44c-4edb-9f3c-79c2117afc35",
   "metadata": {},
   "outputs": [],
   "source": [
    "train_preds = [null_pred for _ in range(len(y_train))]\n",
    "test_preds = [null_pred for _ in range(len(y_test))]"
   ]
  },
  {
   "cell_type": "code",
   "execution_count": 70,
   "id": "aa07d873-b2a9-4409-9d6a-280282fad2e8",
   "metadata": {},
   "outputs": [
    {
     "data": {
      "text/plain": [
       "0.0"
      ]
     },
     "execution_count": 70,
     "metadata": {},
     "output_type": "execute_result"
    }
   ],
   "source": [
    "#Training score\n",
    "metrics.r2_score(y_train, train_preds)"
   ]
  },
  {
   "cell_type": "code",
   "execution_count": 71,
   "id": "cc5fda91-c608-45e6-8669-032ad680b59a",
   "metadata": {},
   "outputs": [
    {
     "data": {
      "text/plain": [
       "-0.002248826198974818"
      ]
     },
     "execution_count": 71,
     "metadata": {},
     "output_type": "execute_result"
    }
   ],
   "source": [
    "#Test score\n",
    "metrics.r2_score(y_test, test_preds)"
   ]
  },
  {
   "cell_type": "markdown",
   "id": "158c8295-2ba8-4bea-bea9-67d3b3af4a78",
   "metadata": {},
   "source": [
    "# Conclusions"
   ]
  },
  {
   "cell_type": "markdown",
   "id": "75b0a19b-cdee-4724-bba4-e8cd84767f22",
   "metadata": {},
   "source": [
    "We've learned that, when trying to model restaurant revenue using the features given to us and only ~100 points of training data, it is difficult to create any model that we can be confident makes better predictions than the null model.\n",
    "\n",
    "This is because, with such a small amount of data, there is simply a very large variance to *almost any  model*.  As we saw, even simple models that use 1 or 2 features can have a large variance from one train/test split to another.  In one split (or one transformation) the model may have a test data R-squared score of .15 or higher; but on another split it may have an R-squared score of -.15 or lower.\n",
    "\n",
    "Indeed, perhaps one or more of the above models actually *does* perform significantly better than the null model across new data.  However, there is no way for us to *know* that to be true without having a much larger quantity of test data.  For example, perhaps `city_group` is the only feature that is predictive of `revenue`, and we merely \"got unlucky\" and found that it wasn't terribly predictive *in our small training/test data set*.  In this case, building a model that only uses `city_group` could result in a score of .15 or higher on a Kaggle competition evaluating results with 100,000 points of test data.\n",
    "\n",
    "Looking at some of the winning Kaggle models, it appears that something like this could easily be going on.  Some of the models are built in extremely long `.ipynb` files, while others are built rather quickly.  The winning models contain a mix of these two types of notebooks; it is likely that the winners just got somewhat lucky and happened to hit upon the few features that matter."
   ]
  }
 ],
 "metadata": {
  "kernelspec": {
   "display_name": "Python 3 (ipykernel)",
   "language": "python",
   "name": "python3"
  },
  "language_info": {
   "codemirror_mode": {
    "name": "ipython",
    "version": 3
   },
   "file_extension": ".py",
   "mimetype": "text/x-python",
   "name": "python",
   "nbconvert_exporter": "python",
   "pygments_lexer": "ipython3",
   "version": "3.9.13"
  }
 },
 "nbformat": 4,
 "nbformat_minor": 5
}
